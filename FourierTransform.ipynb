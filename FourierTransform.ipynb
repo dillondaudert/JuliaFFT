{
 "cells": [
  {
   "cell_type": "markdown",
   "metadata": {
    "slideshow": {
     "slide_type": "slide"
    }
   },
   "source": [
    "# Fourier Transform"
   ]
  },
  {
   "cell_type": "markdown",
   "metadata": {
    "slideshow": {
     "slide_type": "slide"
    }
   },
   "source": [
    "## Polynomials\n",
    "- How to multiply two polynomials\n",
    "- Brute force algorithm (multiplying all terms together): O(n * m) for polynomials with degrees n and m"
   ]
  },
  {
   "cell_type": "markdown",
   "metadata": {
    "slideshow": {
     "slide_type": "fragment"
    }
   },
   "source": [
    "## Representation\n",
    "- Coefficient representation vs. point-value representation\n",
    "- Multiplying polynomials in point-value representation is much easier:\n",
    "  - (fg)(x) = f(x)g(x)"
   ]
  },
  {
   "cell_type": "markdown",
   "metadata": {
    "slideshow": {
     "slide_type": "slide"
    }
   },
   "source": [
    "# Discrete Fourier Transform\n",
    "Convert from coefficient representation to point-value representation\n",
    "- $\\mathcal{O}(n \\lg n)$ runtime\n",
    "- Evaluate a polynomial of degree n - 1 at n points to find its point-value representation\n",
    "- Choose these points carefully"
   ]
  },
  {
   "cell_type": "markdown",
   "metadata": {
    "slideshow": {
     "slide_type": "slide"
    }
   },
   "source": [
    "# Definitions\n",
    "Let $\\mathbf{a} = [a_0, a_1, ..., a_{n-1}]$ be the sequence of coefficients of a polynomial $P$ with degree $n-1$ and $\\mathbf{w} = [w_0, w_1, ..., w_{n-1}]$, $w_j \\in \\mathbb{C}$. Then the discrete Fourier transform of $P$ gives the set of point-values $[b_0, b_1, ..., b_{n-1}]$, where each $b_j$ is given by\n",
    "\\begin{align}\n",
    "b_j = P(w_j) = \\sum_{k=0}^{n-1} a_k w_j^k\n",
    "\\end{align}\n",
    "\n",
    "Written in matrix form, we have\n",
    "\\begin{align}\n",
    "\\begin{bmatrix}\n",
    "1 & w_0 & w_0^2 & ... & w_0^{n-1} \\\\\n",
    "1 & w_1 & w_1^2 & ... & w_1^{n-1} \\\\\n",
    "1 & w_2 & w_2^2 & ... & w_2^{n-1} \\\\\n",
    "\\vdots & \\vdots & \\vdots & \\ddots & \\vdots \\\\\n",
    "1 & w_{n-1} & w_{n-1}^2 & ... & w_{n-1}^{n-1} \\\\\n",
    "\\end{bmatrix}\n",
    "\\begin{bmatrix}\n",
    "a_0 \\\\\n",
    "a_1 \\\\\n",
    "a_2 \\\\\n",
    "\\vdots \\\\\n",
    "a_{n-1} \\\\\n",
    "\\end{bmatrix}\n",
    " = & \n",
    "\\begin{bmatrix}\n",
    "b_0 \\\\\n",
    "b_1 \\\\\n",
    "b_2 \\\\\n",
    "\\vdots \\\\\n",
    "b_{n-1} \\\\\n",
    "\\end{bmatrix}\n",
    "\\end{align}"
   ]
  },
  {
   "cell_type": "markdown",
   "metadata": {
    "slideshow": {
     "slide_type": "fragment"
    }
   },
   "source": [
    "The fast Fourier transform algorithm calculates each $b_j$. We will show that this algorithm runs in $\\mathcal{O} (n \\log{} n)$ when $n$ is a power of 2. To do so requires a selecting a special set of points $\\mathbf{w}$ called the $N^{th}$ roots of unity."
   ]
  },
  {
   "cell_type": "markdown",
   "metadata": {
    "slideshow": {
     "slide_type": "slide"
    }
   },
   "source": [
    "# $N^{th}$ Roots of Unity\n",
    "## Definition\n",
    "The $N^{th}$ roots of unity are the set of complex numbers \n",
    "\\begin{align}\n",
    "\\{ \\; e^{2\\pi i \\frac{j}{N}} \\; \\mid \\; j = 0, 1, \\dots, N-1 \\}\n",
    "\\end{align}\n",
    "For example, the $5^{th}$ roots of unity:\n",
    "![5th roots of unity](img/5throot.png \"5th roots of unity\")"
   ]
  },
  {
   "cell_type": "markdown",
   "metadata": {
    "slideshow": {
     "slide_type": "subslide"
    }
   },
   "source": [
    "## Notation\n",
    "When $\\mathbf{w}$ is the $n^{th}$ roots of unity, we will refer to $\\mathbf{w}$ as $w_n$. The $j^{th}$ element (previously $w_j$) is indicated using the array index notation, $w_n[j]$.\n",
    "\n",
    "## Properties\n",
    "Let $w_n[j] = e^{2\\pi i j/n}$. Then $w_n[j]$ is said to be an $n^{th}$ root of unity and has the following properties:\n",
    "1. $w_n[j]^k = w_n[jk]$ \n",
    "2. $w_n[j] w_n[k] = w_n[j + k]$\n",
    "3. $w_n[j]^n = 1$\n",
    "4. If $n = 2^r$, then $w_n[2j] = w_{\\frac{n}{2}}[j]$"
   ]
  },
  {
   "cell_type": "markdown",
   "metadata": {
    "slideshow": {
     "slide_type": "notes"
    }
   },
   "source": [
    "*Proof of 4:*\n",
    "\n",
    "\\begin{align}\n",
    "w_n[2j] & = (e^{2 \\pi i (2j)/2^r}) \\\\\n",
    "& = e^{2 \\pi i j/2^{r-1}} \\\\\n",
    "& = w_{\\frac{n}{2}}[j] \\\\\n",
    "\\end{align}"
   ]
  },
  {
   "cell_type": "markdown",
   "metadata": {
    "slideshow": {
     "slide_type": "slide"
    }
   },
   "source": [
    "# Fast Fourier Transform\n",
    "We are now ready to derive a recursive algorithm for the DFT. \n",
    "\n",
    "\\begin{align}\n",
    "F(a, w_n[j]) = \\sum_{k=0}^{n-1} a[k] w_n[j]^k\n",
    "\\end{align}\n",
    "\n",
    "If we split the righthand side into two summations, one over even indices of $a$, the other over the odd, we get\n",
    "\n",
    "\\begin{align}\n",
    "\\sum_{k=0}^{n-1} a[k] w_n[j]^k & = \\sum_{m=0}^{\\frac{n}{2}-1} a[2m] w_n[j]^{2m} + \\sum_{m=0}^{\\frac{n}{2}-1} a[2m+1] w_n[j]^{2m+1}\n",
    "\\end{align}\n",
    "\n"
   ]
  },
  {
   "cell_type": "markdown",
   "metadata": {
    "slideshow": {
     "slide_type": "subslide"
    }
   },
   "source": [
    "From properties 1. and 4., we can clearly see that the lefthand summation is $F(a_{even}, w_{\\frac{n}{2}}[j])$. The righthand side requires a bit more manipulation:\n",
    "\n",
    "\\begin{align}\n",
    "\\sum_{m=0}^{\\frac{n}{2}-1} a[2m + 1] w_n[j]^{2m+1} & = \\sum_{m=0}^{\\frac{n}{2}-1} a[2m + 1] w_n[j(2m+1)]\\\\\n",
    "& = \\sum_{m=0}^{\\frac{n}{2}-1} a[2m + 1] w_n[j2m] w_n[j] \\\\\n",
    "& = w_n[j] \\biggl( \\sum_{m=0}^{\\frac{n}{2}-1} a[2m + 1] w_n[2j]^m \\biggr) \\\\\n",
    "& = w_n[j] \\cdot F(a_{odd}, w_{\\frac{n}{2}}[j]) \\\\\n",
    "\\end{align}\n"
   ]
  },
  {
   "cell_type": "markdown",
   "metadata": {
    "slideshow": {
     "slide_type": "subslide"
    }
   },
   "source": [
    "Therefore, our function $F$ can be written as\n",
    "\n",
    "\\begin{align}\n",
    "F(a, w_n[j]) & = F(a_{even}, w_{\\frac{n}{2}}[j]) + w_n[j] \\cdot F(a_{odd}, w_{\\frac{n}{2}}[j]) \\\\\n",
    "\\end{align}\n",
    "for $j = (0, 1, \\dots, n-1)$\n",
    "\n",
    "This recurrence returns a single value for a particular $j$, however we can modify it to instead return the Fourier transform for all values of $j$, giving us\n",
    "\n",
    "\\begin{align}\n",
    "F(a, w_n) & = F(a_{even}, w_{\\frac{n}{2}}) + w_n \\cdot F(a_{odd}, w_{\\frac{n}{2}}) \\\\\n",
    "\\end{align}\n",
    "\n",
    "Written in Julia, the algorithm is as follows:"
   ]
  },
  {
   "cell_type": "code",
   "execution_count": 2,
   "metadata": {
    "slideshow": {
     "slide_type": "slide"
    }
   },
   "outputs": [
    {
     "data": {
      "text/plain": [
       "FFT (generic function with 1 method)"
      ]
     },
     "execution_count": 2,
     "metadata": {},
     "output_type": "execute_result"
    }
   ],
   "source": [
    "function FFT(n::Integer, x̄::Array{Complex{Int64}})\n",
    "    \"\"\"\n",
    "    Calculate the fast Fourier transform of n numbers in x̄.\n",
    "    (Note that n must be a power of 2 (n = 2ᵏ))\n",
    "    Returns:\n",
    "        ȳ - A complex array of size n \n",
    "    \"\"\"\n",
    "    # Julia is 1-indexed\n",
    "    if n == 1\n",
    "        return [x̄[1]]\n",
    "    end\n",
    "    \n",
    "    evens = [x̄[Int(2i)] for i = 1:n/2]\n",
    "    odds = [x̄[Int(2i-1)] for i = 1:n/2]\n",
    "    # Since Julia is 1-indexed, we flip the odds and evens at the recursive step\n",
    "    ū = FFT(Int(n/2), odds)\n",
    "    v̄ = FFT(Int(n/2), evens)\n",
    "    ȳ = zeros(Complex, n)\n",
    "    for j = 1:n\n",
    "        τ = exp(2π*im*(j-1)/n) \n",
    "        ȳ[j] = ū[(j-1)%Int(n/2)+1] + τ * v̄[(j-1)%Int(n/2)+1]\n",
    "        # @printf(\"n: %d, j: %d, yⱼ = \", n, j-1)\n",
    "        # println(ū[(j-1)%Int(n/2)+1], \" + (\", τ, \") * \", v̄[(j-1)%Int(n/2)+1])\n",
    "    end\n",
    "    return ȳ\n",
    "end"
   ]
  },
  {
   "cell_type": "markdown",
   "metadata": {
    "slideshow": {
     "slide_type": "slide"
    }
   },
   "source": [
    "# Time Complexity\n",
    "Let $N = n$, and $T(N) = F(\\mathbf{a}, w_n[j])$,\n",
    "\\begin{align}\n",
    "T(N) = 2 \\cdot T(\\frac{N}{2}) + N,\n",
    "\\end{align}\n",
    "where the $+N$ comes from the loop after the recursive step.\n",
    "\n",
    "This algorithm runs in $\\mathcal{O}(N \\lg N)$ when $N$ is a power of 2."
   ]
  },
  {
   "cell_type": "markdown",
   "metadata": {
    "slideshow": {
     "slide_type": "subslide"
    }
   },
   "source": [
    "*Proof:*\n",
    "\\begin{align}\n",
    "T(N) & = 2 \\cdot T(\\frac{N}{2}) + N \\\\\n",
    "\\end{align}\n",
    "Let $N = 2^k$, and $t_k = T(2^k)$\n",
    "\\begin{align}\n",
    "t_k & = 2t_{k-1} + 2^k \\\\\n",
    "t_k - 2t_{k-1} & = 2^k \\\\\n",
    "\\end{align}"
   ]
  },
  {
   "cell_type": "markdown",
   "metadata": {
    "slideshow": {
     "slide_type": "subslide"
    }
   },
   "source": [
    "We can use the characteristic equation to solve this inhomogeneous system.\n",
    "\\begin{align}\n",
    "(x - 2)^2 & = 0 \\\\\n",
    "\\end{align}\n",
    "So we end up with\n",
    "\\begin{align}\n",
    "t_k & = c_1 2^k + c_2 k 2^k; k = \\lg N\\\\\n",
    "T(N) & = c_1 N + c_2 N \\lg N \\\\\n",
    "T(N) & = \\mathcal{O}(N \\lg N) \\\\\n",
    "\\end{align}"
   ]
  },
  {
   "cell_type": "markdown",
   "metadata": {
    "slideshow": {
     "slide_type": "slide"
    }
   },
   "source": [
    "# Example\n",
    "Say you want to perform the following multiplication:\n",
    "\\begin{align}\n",
    "(1 + x)(1 + x + x^2).\n",
    "\\end{align}\n",
    "We can use the FFT algorithm to find the point-value representation of each polynomial, then multiply those two together:"
   ]
  },
  {
   "cell_type": "code",
   "execution_count": 3,
   "metadata": {
    "slideshow": {
     "slide_type": "subslide"
    }
   },
   "outputs": [
    {
     "data": {
      "text/plain": [
       "4-element Array{Complex,1}:\n",
       "  4.0+0.0im        \n",
       "  1.0-1.0im        \n",
       " -2.0+3.67394e-16im\n",
       "  1.0+1.0im        "
      ]
     },
     "metadata": {},
     "output_type": "display_data"
    }
   ],
   "source": [
    "n = 4\n",
    "x̄₁ = [1 1 0im 2]\n",
    "ȳ₁ = FFT(n, x̄₁)\n",
    "display(ȳ₁)"
   ]
  },
  {
   "cell_type": "markdown",
   "metadata": {
    "slideshow": {
     "slide_type": "fragment"
    }
   },
   "source": [
    "Calculating the FFT of each,\n",
    "\\begin{align}\n",
    "FFT(1 + x) & = [2, 1+i, 0, 1-i] \\\\\n",
    "FFT(1 + x + x^2) & = [3, i, 1, -i], \\\\\n",
    "\\end{align}\n",
    "which leads to the point-value representation of their product: $[6, -1 + i, 0, -1-i]$."
   ]
  }
 ],
 "metadata": {
  "kernelspec": {
   "display_name": "Julia 0.6.0",
   "language": "julia",
   "name": "julia-0.6"
  },
  "language_info": {
   "file_extension": ".jl",
   "mimetype": "application/julia",
   "name": "julia",
   "version": "0.6.0"
  }
 },
 "nbformat": 4,
 "nbformat_minor": 2
}
